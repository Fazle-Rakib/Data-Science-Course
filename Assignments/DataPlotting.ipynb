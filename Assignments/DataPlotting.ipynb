{
  "nbformat": 4,
  "nbformat_minor": 0,
  "metadata": {
    "colab": {
      "name": "DataPlotting.ipynb",
      "provenance": [],
      "collapsed_sections": []
    },
    "kernelspec": {
      "name": "python3",
      "display_name": "Python 3"
    }
  },
  "cells": [
    {
      "cell_type": "code",
      "metadata": {
        "id": "MgcSCqGjUYxB",
        "outputId": "a445fa24-86f2-4ee0-8461-2702fdeef591",
        "colab": {
          "base_uri": "https://localhost:8080/",
          "height": 351
        }
      },
      "source": [
        "import numpy as py\n",
        "import math\n",
        "import matplotlib.pyplot as plt\n",
        "def mean(marks_lists):\n",
        "    sum = 0\n",
        "    for num in marks_lists:\n",
        "        sum = sum+num\n",
        "    return sum/len(marks_lists)\n",
        "def median(number_lists):\n",
        "    number_lists.sort()\n",
        "    total = len(number_lists)\n",
        "    if total%2 == 0:\n",
        "        return (number_lists[int(total/2)-1]+number_lists[int(total/2)])/2\n",
        "    else:\n",
        "        return number_lists[int(total/2)]\n",
        "def std_dev(number_lists):\n",
        "    x = mean(number_lists)\n",
        "    sum = 0\n",
        "    for num in number_lists:\n",
        "        sum = sum+(abs(num-x))**2\n",
        "    return math.sqrt(sum/len(number_lists))\n",
        "marks_lists = [19, 5, 5, 20, 3, 3, 13, 6, 14, 6, 14, 7, 14, 13, 2, 14, 15, 6, 0, 13, 7, 4, 9, 5, 6, 2, 14, 14, 18, 18, 5, 20, 0, 18, 20, 9, 3, 19, 14, 1, 11, 4, 17, 15, 6, 16, 3, 11, 11, 4];\n",
        "roll=[]\n",
        "for i in range(1,51):\n",
        "    roll.append(i)\n",
        "plt.bar(roll,marks_lists,label= \"Marks\")\n",
        "mean_val  = mean(marks_lists)\n",
        "median_val = median(marks_lists)\n",
        "std_val = std_dev(marks_lists)\n",
        "print(\"Mean Value Of the dataset: \",mean_val)\n",
        "# print(py.mean(marks_lists))\n",
        "print('Median Value Of the dataset: ',median_val)\n",
        "# print(py.median(marks_lists))\n",
        "print('Standard deviation Of the dataset: ',std_val)\n",
        "# print(py.std(marks_lists))\n",
        "plt.axhline(mean_val,color='yellow',label= 'Mean')\n",
        "plt.axhline(median_val,color='red',label= 'Median')\n",
        "plt.axhline(std_val,color='black',label= 'Standard Deviation')\n",
        "# plt.plot(roll,median_val)\n",
        "# plt.plot(roll,std_val)\n",
        "plt.xlabel('Roll Number')\n",
        "plt.ylabel('Term-Test Number')\n",
        "plt.title('Term Test Number of SWE student')\n",
        "plt.legend()\n",
        "plt.savefig(\"mygraph.png\")\n",
        "\n"
      ],
      "execution_count": null,
      "outputs": [
        {
          "output_type": "stream",
          "text": [
            "Mean Value Of the dataset:  9.92\n",
            "Median Value Of the dataset:  10.0\n",
            "Standard deviation Of the dataset:  6.072363625475668\n"
          ],
          "name": "stdout"
        },
        {
          "output_type": "display_data",
          "data": {
            "image/png": "[encoded data removed]",
            "text/plain": [
              "<Figure size 432x288 with 1 Axes>"
            ]
          },
          "metadata": {
            "tags": [],
            "needs_background": "light"
          }
        }
      ]
    },
    {
      "cell_type": "code",
      "metadata": {
        "id": "tQYGYlczWJ_H"
      },
      "source": [
        ""
      ],
      "execution_count": null,
      "outputs": []
    }
  ]
}